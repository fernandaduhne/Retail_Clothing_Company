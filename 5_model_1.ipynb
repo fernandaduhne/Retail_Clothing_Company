{
 "cells": [
  {
   "cell_type": "code",
   "execution_count": 1,
   "id": "9553d21f",
   "metadata": {},
   "outputs": [],
   "source": [
    "import pandas as pd\n",
    "import seaborn as sns\n",
    "import matplotlib.pyplot as plt\n",
    "import numpy as np\n",
    "from sklearn.datasets import load_boston\n",
    "from sklearn.tree import DecisionTreeRegressor\n",
    "from sklearn.model_selection import cross_val_score\n",
    "from sklearn.model_selection import train_test_split\n",
    "import mysql.connector\n",
    "import getpass \n",
    "from sqlalchemy import create_engine\n",
    "from sklearn.model_selection import train_test_split\n",
    "from sklearn import linear_model\n",
    "from sklearn.metrics import mean_squared_error, r2_score, mean_absolute_error\n",
    "import math\n",
    "from sklearn.preprocessing import MinMaxScaler \n",
    "import matplotlib.pyplot as plt\n",
    "import seaborn as sns\n",
    "from sklearn.preprocessing import LabelEncoder\n",
    "from sklearn.preprocessing import OneHotEncoder\n",
    "from sklearn.ensemble import RandomForestRegressor"
   ]
  },
  {
   "cell_type": "code",
   "execution_count": 2,
   "id": "afa25634",
   "metadata": {},
   "outputs": [],
   "source": [
    "pd.set_option('display.max_columns', None)"
   ]
  },
  {
   "cell_type": "code",
   "execution_count": 6,
   "id": "91fbe94b",
   "metadata": {
    "scrolled": true
   },
   "outputs": [],
   "source": [
    "# import and change columns that seem numerical but are categorical:\n",
    "\n",
    "data = pd.read_csv('aura_df.csv', dtype = {'clase':str,'almacen':str,'ejercicio':str,'mes':str,'dia':str,'hora':str,\n",
    "                                           'tipo_pago':str,'vendedor':str,'seccion':str,'talla':str,'modelo':str,'color':str,\n",
    "                                           'producto':str,'descripcion':str,'grupo':str,'subgrupo':str,'linea':str,'marca':str,\n",
    "                                           'lista':str,'cantidad':float,'descuento':float,'subtotal':float,'iva':float,\n",
    "                                           'total':float,'costo':float,'proveedor':str,'detalle':str,'costo_ind':float})"
   ]
  },
  {
   "cell_type": "code",
   "execution_count": 7,
   "id": "470669ca",
   "metadata": {},
   "outputs": [
    {
     "data": {
      "text/html": [
       "<div>\n",
       "<style scoped>\n",
       "    .dataframe tbody tr th:only-of-type {\n",
       "        vertical-align: middle;\n",
       "    }\n",
       "\n",
       "    .dataframe tbody tr th {\n",
       "        vertical-align: top;\n",
       "    }\n",
       "\n",
       "    .dataframe thead th {\n",
       "        text-align: right;\n",
       "    }\n",
       "</style>\n",
       "<table border=\"1\" class=\"dataframe\">\n",
       "  <thead>\n",
       "    <tr style=\"text-align: right;\">\n",
       "      <th></th>\n",
       "      <th>clase</th>\n",
       "      <th>almacen</th>\n",
       "      <th>ejercicio</th>\n",
       "      <th>mes</th>\n",
       "      <th>dia</th>\n",
       "      <th>hora</th>\n",
       "      <th>tipo_pago</th>\n",
       "      <th>vendedor</th>\n",
       "      <th>seccion</th>\n",
       "      <th>talla</th>\n",
       "      <th>modelo</th>\n",
       "      <th>color</th>\n",
       "      <th>producto</th>\n",
       "      <th>descripcion</th>\n",
       "      <th>grupo</th>\n",
       "      <th>subgrupo</th>\n",
       "      <th>linea</th>\n",
       "      <th>marca</th>\n",
       "      <th>lista</th>\n",
       "      <th>cantidad</th>\n",
       "      <th>descuento</th>\n",
       "      <th>subtotal</th>\n",
       "      <th>iva</th>\n",
       "      <th>total</th>\n",
       "      <th>costo</th>\n",
       "      <th>proveedor</th>\n",
       "      <th>detalle</th>\n",
       "      <th>costo_ind</th>\n",
       "    </tr>\n",
       "  </thead>\n",
       "  <tbody>\n",
       "    <tr>\n",
       "      <th>0</th>\n",
       "      <td>VENTA</td>\n",
       "      <td>T012</td>\n",
       "      <td>2021.0</td>\n",
       "      <td>4.0</td>\n",
       "      <td>14.0</td>\n",
       "      <td>13.0</td>\n",
       "      <td>EF</td>\n",
       "      <td>406.0</td>\n",
       "      <td>UNISEX</td>\n",
       "      <td>T- CHICA</td>\n",
       "      <td>TELA</td>\n",
       "      <td>SURTIDO</td>\n",
       "      <td>3.0</td>\n",
       "      <td>ALMOHADA SIN MARCA BEBE SURTIDO UNISEX T- CHIC...</td>\n",
       "      <td>ALMOHADA</td>\n",
       "      <td>LINEA</td>\n",
       "      <td>BEBE</td>\n",
       "      <td>0</td>\n",
       "      <td>AGUASCALIENTES</td>\n",
       "      <td>1.0</td>\n",
       "      <td>0.0</td>\n",
       "      <td>25.86</td>\n",
       "      <td>4.14</td>\n",
       "      <td>30.0</td>\n",
       "      <td>14.65517</td>\n",
       "      <td>0008</td>\n",
       "      <td>ESTAMPADA C/OLAN S/BOLSA</td>\n",
       "      <td>14.65517</td>\n",
       "    </tr>\n",
       "    <tr>\n",
       "      <th>1</th>\n",
       "      <td>VENTA</td>\n",
       "      <td>T013</td>\n",
       "      <td>2021.0</td>\n",
       "      <td>4.0</td>\n",
       "      <td>10.0</td>\n",
       "      <td>17.0</td>\n",
       "      <td>EF</td>\n",
       "      <td>463.0</td>\n",
       "      <td>UNISEX</td>\n",
       "      <td>T- CHICA</td>\n",
       "      <td>TELA</td>\n",
       "      <td>SURTIDO</td>\n",
       "      <td>3.0</td>\n",
       "      <td>ALMOHADA SIN MARCA BEBE SURTIDO UNISEX T- CHIC...</td>\n",
       "      <td>ALMOHADA</td>\n",
       "      <td>LINEA</td>\n",
       "      <td>BEBE</td>\n",
       "      <td>0</td>\n",
       "      <td>AGUASCALIENTES</td>\n",
       "      <td>1.0</td>\n",
       "      <td>0.0</td>\n",
       "      <td>25.86</td>\n",
       "      <td>4.14</td>\n",
       "      <td>30.0</td>\n",
       "      <td>14.65517</td>\n",
       "      <td>0008</td>\n",
       "      <td>ESTAMPADA C/OLAN S/BOLSA</td>\n",
       "      <td>14.65517</td>\n",
       "    </tr>\n",
       "  </tbody>\n",
       "</table>\n",
       "</div>"
      ],
      "text/plain": [
       "   clase almacen ejercicio  mes   dia  hora tipo_pago vendedor seccion  \\\n",
       "0  VENTA    T012    2021.0  4.0  14.0  13.0        EF    406.0  UNISEX   \n",
       "1  VENTA    T013    2021.0  4.0  10.0  17.0        EF    463.0  UNISEX   \n",
       "\n",
       "      talla modelo    color producto  \\\n",
       "0  T- CHICA   TELA  SURTIDO      3.0   \n",
       "1  T- CHICA   TELA  SURTIDO      3.0   \n",
       "\n",
       "                                         descripcion     grupo subgrupo linea  \\\n",
       "0  ALMOHADA SIN MARCA BEBE SURTIDO UNISEX T- CHIC...  ALMOHADA    LINEA  BEBE   \n",
       "1  ALMOHADA SIN MARCA BEBE SURTIDO UNISEX T- CHIC...  ALMOHADA    LINEA  BEBE   \n",
       "\n",
       "  marca           lista  cantidad  descuento  subtotal   iva  total     costo  \\\n",
       "0     0  AGUASCALIENTES       1.0        0.0     25.86  4.14   30.0  14.65517   \n",
       "1     0  AGUASCALIENTES       1.0        0.0     25.86  4.14   30.0  14.65517   \n",
       "\n",
       "  proveedor                   detalle  costo_ind  \n",
       "0      0008  ESTAMPADA C/OLAN S/BOLSA   14.65517  \n",
       "1      0008  ESTAMPADA C/OLAN S/BOLSA   14.65517  "
      ]
     },
     "execution_count": 7,
     "metadata": {},
     "output_type": "execute_result"
    }
   ],
   "source": [
    "data.head(2)"
   ]
  },
  {
   "cell_type": "code",
   "execution_count": 8,
   "id": "ac379386",
   "metadata": {},
   "outputs": [
    {
     "data": {
      "text/plain": [
       "clase           object\n",
       "almacen         object\n",
       "ejercicio       object\n",
       "mes             object\n",
       "dia             object\n",
       "hora            object\n",
       "tipo_pago       object\n",
       "vendedor        object\n",
       "seccion         object\n",
       "talla           object\n",
       "modelo          object\n",
       "color           object\n",
       "producto        object\n",
       "descripcion     object\n",
       "grupo           object\n",
       "subgrupo        object\n",
       "linea           object\n",
       "marca           object\n",
       "lista           object\n",
       "cantidad       float64\n",
       "descuento      float64\n",
       "subtotal       float64\n",
       "iva            float64\n",
       "total          float64\n",
       "costo          float64\n",
       "proveedor       object\n",
       "detalle         object\n",
       "costo_ind      float64\n",
       "dtype: object"
      ]
     },
     "execution_count": 8,
     "metadata": {},
     "output_type": "execute_result"
    }
   ],
   "source": [
    "data.dtypes"
   ]
  },
  {
   "cell_type": "code",
   "execution_count": null,
   "id": "17ea7ef0",
   "metadata": {},
   "outputs": [],
   "source": [
    "# Check columns to drop unnecesary before modeling \n",
    "\n",
    "# data['clase'].value_counts()              # drop \n",
    "# data['almacen'].value_counts()\n",
    "# data['tipo_pago'].value_counts()\n",
    "# data['seccion'].value_counts()\n",
    "# data['talla'].value_counts()\n",
    "# data['modelo'].value_counts()\n",
    "# data['color'].value_counts()\n",
    "# data['descripcion'].value_counts()         # drop\n",
    "# data['grupo'].value_counts()\n",
    "# data['subgrupo'].value_counts()\n",
    "# data['linea'].value_counts()\n",
    "# data['marca'].value_counts()               # drop for model2\n",
    "# data['lista'].value_counts()\n",
    "# data['proveedor'].value_counts()           # drop for model2\n",
    "# data['detalle'].value_counts()             # drop for model2\n",
    "\n",
    "\n",
    "# data['cantidad'].value_counts()\n",
    "# data['descuento'].value_counts()           # drop for model2\n",
    "# data['subtotal'].value_counts()            #target\n",
    "# data['iva'].value_counts()                 #drop\n",
    "# data['total'].value_counts()               #drop\n",
    "# data['costo'].value_counts()               #check if drop\n",
    "# data['costo_ind'].value_counts()           #check if drop\n"
   ]
  },
  {
   "cell_type": "code",
   "execution_count": 9,
   "id": "ff6d9e45",
   "metadata": {},
   "outputs": [],
   "source": [
    "# Last changes before modeling:\n",
    "data.tipo_pago = data.tipo_pago.replace(['T0','CR','TC'],'Otro')\n",
    "# data.color = data.color.replace(~'SURTIDO','Otro')    # will try it later to improve model\n",
    "data.subgrupo = data.subgrupo.replace('POMOCION','PROMOCION')\n",
    "# data.subgrupo = data.subgrupo.replace(~['LINEA','PROMOCION','TRES POR X','PROMOCION 12'],'Otro')    # will try it later to improve model\n",
    "# data.linea = data.linea.replace(['BASICOS','BLANCOS','DEFAULT','BEBE FEMENINO','BEBE MASCULINO','MUESTRAS'],'Otro')   # will try it later to improve model\n",
    "data.lista = data.lista.replace('MINIMO','DISTRIBUIDOR')"
   ]
  },
  {
   "cell_type": "code",
   "execution_count": null,
   "id": "40dac260",
   "metadata": {},
   "outputs": [],
   "source": [
    "#################### pass info to df, pass to sql"
   ]
  },
  {
   "cell_type": "code",
   "execution_count": 10,
   "id": "b31a10e6",
   "metadata": {},
   "outputs": [],
   "source": [
    "model1 = data.copy()"
   ]
  },
  {
   "cell_type": "code",
   "execution_count": 11,
   "id": "b8628f5f",
   "metadata": {},
   "outputs": [],
   "source": [
    "model1 = model1.drop(columns=['clase','descripcion','iva','total'])"
   ]
  },
  {
   "cell_type": "markdown",
   "id": "5ab549bc",
   "metadata": {},
   "source": [
    "#### Divide X & y"
   ]
  },
  {
   "cell_type": "code",
   "execution_count": 12,
   "id": "3dc85078",
   "metadata": {},
   "outputs": [],
   "source": [
    "X = model1.drop(columns=['subtotal']).copy()"
   ]
  },
  {
   "cell_type": "code",
   "execution_count": 13,
   "id": "0e07ceda",
   "metadata": {},
   "outputs": [
    {
     "data": {
      "text/html": [
       "<div>\n",
       "<style scoped>\n",
       "    .dataframe tbody tr th:only-of-type {\n",
       "        vertical-align: middle;\n",
       "    }\n",
       "\n",
       "    .dataframe tbody tr th {\n",
       "        vertical-align: top;\n",
       "    }\n",
       "\n",
       "    .dataframe thead th {\n",
       "        text-align: right;\n",
       "    }\n",
       "</style>\n",
       "<table border=\"1\" class=\"dataframe\">\n",
       "  <thead>\n",
       "    <tr style=\"text-align: right;\">\n",
       "      <th></th>\n",
       "      <th>almacen</th>\n",
       "      <th>ejercicio</th>\n",
       "      <th>mes</th>\n",
       "      <th>dia</th>\n",
       "      <th>hora</th>\n",
       "      <th>tipo_pago</th>\n",
       "      <th>vendedor</th>\n",
       "      <th>seccion</th>\n",
       "      <th>talla</th>\n",
       "      <th>modelo</th>\n",
       "      <th>color</th>\n",
       "      <th>producto</th>\n",
       "      <th>grupo</th>\n",
       "      <th>subgrupo</th>\n",
       "      <th>linea</th>\n",
       "      <th>marca</th>\n",
       "      <th>lista</th>\n",
       "      <th>cantidad</th>\n",
       "      <th>descuento</th>\n",
       "      <th>costo</th>\n",
       "      <th>proveedor</th>\n",
       "      <th>detalle</th>\n",
       "      <th>costo_ind</th>\n",
       "    </tr>\n",
       "  </thead>\n",
       "  <tbody>\n",
       "    <tr>\n",
       "      <th>0</th>\n",
       "      <td>T012</td>\n",
       "      <td>2021.0</td>\n",
       "      <td>4.0</td>\n",
       "      <td>14.0</td>\n",
       "      <td>13.0</td>\n",
       "      <td>EF</td>\n",
       "      <td>406.0</td>\n",
       "      <td>UNISEX</td>\n",
       "      <td>T- CHICA</td>\n",
       "      <td>TELA</td>\n",
       "      <td>SURTIDO</td>\n",
       "      <td>3.0</td>\n",
       "      <td>ALMOHADA</td>\n",
       "      <td>LINEA</td>\n",
       "      <td>BEBE</td>\n",
       "      <td>0</td>\n",
       "      <td>AGUASCALIENTES</td>\n",
       "      <td>1.0</td>\n",
       "      <td>0.0</td>\n",
       "      <td>14.65517</td>\n",
       "      <td>0008</td>\n",
       "      <td>ESTAMPADA C/OLAN S/BOLSA</td>\n",
       "      <td>14.65517</td>\n",
       "    </tr>\n",
       "    <tr>\n",
       "      <th>1</th>\n",
       "      <td>T013</td>\n",
       "      <td>2021.0</td>\n",
       "      <td>4.0</td>\n",
       "      <td>10.0</td>\n",
       "      <td>17.0</td>\n",
       "      <td>EF</td>\n",
       "      <td>463.0</td>\n",
       "      <td>UNISEX</td>\n",
       "      <td>T- CHICA</td>\n",
       "      <td>TELA</td>\n",
       "      <td>SURTIDO</td>\n",
       "      <td>3.0</td>\n",
       "      <td>ALMOHADA</td>\n",
       "      <td>LINEA</td>\n",
       "      <td>BEBE</td>\n",
       "      <td>0</td>\n",
       "      <td>AGUASCALIENTES</td>\n",
       "      <td>1.0</td>\n",
       "      <td>0.0</td>\n",
       "      <td>14.65517</td>\n",
       "      <td>0008</td>\n",
       "      <td>ESTAMPADA C/OLAN S/BOLSA</td>\n",
       "      <td>14.65517</td>\n",
       "    </tr>\n",
       "  </tbody>\n",
       "</table>\n",
       "</div>"
      ],
      "text/plain": [
       "  almacen ejercicio  mes   dia  hora tipo_pago vendedor seccion     talla  \\\n",
       "0    T012    2021.0  4.0  14.0  13.0        EF    406.0  UNISEX  T- CHICA   \n",
       "1    T013    2021.0  4.0  10.0  17.0        EF    463.0  UNISEX  T- CHICA   \n",
       "\n",
       "  modelo    color producto     grupo subgrupo linea marca           lista  \\\n",
       "0   TELA  SURTIDO      3.0  ALMOHADA    LINEA  BEBE     0  AGUASCALIENTES   \n",
       "1   TELA  SURTIDO      3.0  ALMOHADA    LINEA  BEBE     0  AGUASCALIENTES   \n",
       "\n",
       "   cantidad  descuento     costo proveedor                   detalle  \\\n",
       "0       1.0        0.0  14.65517      0008  ESTAMPADA C/OLAN S/BOLSA   \n",
       "1       1.0        0.0  14.65517      0008  ESTAMPADA C/OLAN S/BOLSA   \n",
       "\n",
       "   costo_ind  \n",
       "0   14.65517  \n",
       "1   14.65517  "
      ]
     },
     "execution_count": 13,
     "metadata": {},
     "output_type": "execute_result"
    }
   ],
   "source": [
    "X.head(2)"
   ]
  },
  {
   "cell_type": "code",
   "execution_count": 14,
   "id": "150cbbc9",
   "metadata": {},
   "outputs": [],
   "source": [
    "y = model1['subtotal'].copy()"
   ]
  },
  {
   "cell_type": "code",
   "execution_count": 15,
   "id": "d6e57795",
   "metadata": {},
   "outputs": [],
   "source": [
    "y = pd.DataFrame(y, columns = ['subtotal'])"
   ]
  },
  {
   "cell_type": "code",
   "execution_count": 16,
   "id": "63df6c7e",
   "metadata": {},
   "outputs": [
    {
     "data": {
      "text/html": [
       "<div>\n",
       "<style scoped>\n",
       "    .dataframe tbody tr th:only-of-type {\n",
       "        vertical-align: middle;\n",
       "    }\n",
       "\n",
       "    .dataframe tbody tr th {\n",
       "        vertical-align: top;\n",
       "    }\n",
       "\n",
       "    .dataframe thead th {\n",
       "        text-align: right;\n",
       "    }\n",
       "</style>\n",
       "<table border=\"1\" class=\"dataframe\">\n",
       "  <thead>\n",
       "    <tr style=\"text-align: right;\">\n",
       "      <th></th>\n",
       "      <th>subtotal</th>\n",
       "    </tr>\n",
       "  </thead>\n",
       "  <tbody>\n",
       "    <tr>\n",
       "      <th>0</th>\n",
       "      <td>25.86</td>\n",
       "    </tr>\n",
       "    <tr>\n",
       "      <th>1</th>\n",
       "      <td>25.86</td>\n",
       "    </tr>\n",
       "  </tbody>\n",
       "</table>\n",
       "</div>"
      ],
      "text/plain": [
       "   subtotal\n",
       "0     25.86\n",
       "1     25.86"
      ]
     },
     "execution_count": 16,
     "metadata": {},
     "output_type": "execute_result"
    }
   ],
   "source": [
    "y.head(2)"
   ]
  },
  {
   "cell_type": "markdown",
   "id": "bf3f02b5",
   "metadata": {},
   "source": [
    "#### Split train-test"
   ]
  },
  {
   "cell_type": "code",
   "execution_count": 17,
   "id": "4476f078",
   "metadata": {},
   "outputs": [],
   "source": [
    "X_train, X_test, y_train, y_test = train_test_split(X, y, test_size=0.2)"
   ]
  },
  {
   "cell_type": "code",
   "execution_count": 18,
   "id": "1c9962ae",
   "metadata": {},
   "outputs": [],
   "source": [
    "X_num_train = X_train.select_dtypes(np.number)\n",
    "X_cat_train = X_train.select_dtypes(object)\n",
    "\n",
    "X_num_test = X_test.select_dtypes(np.number)\n",
    "X_cat_test = X_test.select_dtypes(object)"
   ]
  },
  {
   "cell_type": "markdown",
   "id": "445714be",
   "metadata": {},
   "source": [
    "#### Check sets"
   ]
  },
  {
   "cell_type": "code",
   "execution_count": 19,
   "id": "9e59d571",
   "metadata": {},
   "outputs": [
    {
     "data": {
      "text/html": [
       "<div>\n",
       "<style scoped>\n",
       "    .dataframe tbody tr th:only-of-type {\n",
       "        vertical-align: middle;\n",
       "    }\n",
       "\n",
       "    .dataframe tbody tr th {\n",
       "        vertical-align: top;\n",
       "    }\n",
       "\n",
       "    .dataframe thead th {\n",
       "        text-align: right;\n",
       "    }\n",
       "</style>\n",
       "<table border=\"1\" class=\"dataframe\">\n",
       "  <thead>\n",
       "    <tr style=\"text-align: right;\">\n",
       "      <th></th>\n",
       "      <th>cantidad</th>\n",
       "      <th>descuento</th>\n",
       "      <th>costo</th>\n",
       "      <th>costo_ind</th>\n",
       "    </tr>\n",
       "  </thead>\n",
       "  <tbody>\n",
       "    <tr>\n",
       "      <th>1523063</th>\n",
       "      <td>1.0</td>\n",
       "      <td>0.0</td>\n",
       "      <td>115.51710</td>\n",
       "      <td>134.00000</td>\n",
       "    </tr>\n",
       "    <tr>\n",
       "      <th>1016841</th>\n",
       "      <td>3.0</td>\n",
       "      <td>0.0</td>\n",
       "      <td>25.86207</td>\n",
       "      <td>8.62069</td>\n",
       "    </tr>\n",
       "  </tbody>\n",
       "</table>\n",
       "</div>"
      ],
      "text/plain": [
       "         cantidad  descuento      costo  costo_ind\n",
       "1523063       1.0        0.0  115.51710  134.00000\n",
       "1016841       3.0        0.0   25.86207    8.62069"
      ]
     },
     "execution_count": 19,
     "metadata": {},
     "output_type": "execute_result"
    }
   ],
   "source": [
    "X_num_train.head(2)"
   ]
  },
  {
   "cell_type": "code",
   "execution_count": 20,
   "id": "ed212e5f",
   "metadata": {},
   "outputs": [
    {
     "data": {
      "text/plain": [
       "<AxesSubplot:>"
      ]
     },
     "execution_count": 20,
     "metadata": {},
     "output_type": "execute_result"
    },
    {
     "data": {
      "image/png": "[encoded data removed]",
      "text/plain": [
       "<Figure size 432x288 with 2 Axes>"
      ]
     },
     "metadata": {
      "needs_background": "light"
     },
     "output_type": "display_data"
    }
   ],
   "source": [
    "sns.heatmap(X_num_train.corr(), annot=True)"
   ]
  },
  {
   "cell_type": "code",
   "execution_count": 21,
   "id": "a648026c",
   "metadata": {},
   "outputs": [
    {
     "data": {
      "text/html": [
       "<div>\n",
       "<style scoped>\n",
       "    .dataframe tbody tr th:only-of-type {\n",
       "        vertical-align: middle;\n",
       "    }\n",
       "\n",
       "    .dataframe tbody tr th {\n",
       "        vertical-align: top;\n",
       "    }\n",
       "\n",
       "    .dataframe thead th {\n",
       "        text-align: right;\n",
       "    }\n",
       "</style>\n",
       "<table border=\"1\" class=\"dataframe\">\n",
       "  <thead>\n",
       "    <tr style=\"text-align: right;\">\n",
       "      <th></th>\n",
       "      <th>almacen</th>\n",
       "      <th>ejercicio</th>\n",
       "      <th>mes</th>\n",
       "      <th>dia</th>\n",
       "      <th>hora</th>\n",
       "      <th>tipo_pago</th>\n",
       "      <th>vendedor</th>\n",
       "      <th>seccion</th>\n",
       "      <th>talla</th>\n",
       "      <th>modelo</th>\n",
       "      <th>color</th>\n",
       "      <th>producto</th>\n",
       "      <th>grupo</th>\n",
       "      <th>subgrupo</th>\n",
       "      <th>linea</th>\n",
       "      <th>marca</th>\n",
       "      <th>lista</th>\n",
       "      <th>proveedor</th>\n",
       "      <th>detalle</th>\n",
       "    </tr>\n",
       "  </thead>\n",
       "  <tbody>\n",
       "    <tr>\n",
       "      <th>1523063</th>\n",
       "      <td>T016</td>\n",
       "      <td>2022.0</td>\n",
       "      <td>9.0</td>\n",
       "      <td>27.0</td>\n",
       "      <td>16.0</td>\n",
       "      <td>EF</td>\n",
       "      <td>618.0</td>\n",
       "      <td>INVIERNO</td>\n",
       "      <td>T- UNITALLA</td>\n",
       "      <td>TERCIOPELO</td>\n",
       "      <td>SURTIDO</td>\n",
       "      <td>2572.0</td>\n",
       "      <td>CONJUNTO CHAMARRA</td>\n",
       "      <td>LINEA</td>\n",
       "      <td>DAMA</td>\n",
       "      <td>0143</td>\n",
       "      <td>AGUASCALIENTES</td>\n",
       "      <td>0037</td>\n",
       "      <td>P6028</td>\n",
       "    </tr>\n",
       "    <tr>\n",
       "      <th>1016841</th>\n",
       "      <td>T007</td>\n",
       "      <td>2022.0</td>\n",
       "      <td>1.0</td>\n",
       "      <td>29.0</td>\n",
       "      <td>16.0</td>\n",
       "      <td>EF</td>\n",
       "      <td>498.0</td>\n",
       "      <td>INTERIOR</td>\n",
       "      <td>T- UNITALLA</td>\n",
       "      <td>LIKRA</td>\n",
       "      <td>SURTIDO</td>\n",
       "      <td>3334.0</td>\n",
       "      <td>BOXER</td>\n",
       "      <td>LINEA</td>\n",
       "      <td>NIÑO</td>\n",
       "      <td>0054</td>\n",
       "      <td>AGUASCALIENTES</td>\n",
       "      <td>Other</td>\n",
       "      <td>BFBOY02</td>\n",
       "    </tr>\n",
       "  </tbody>\n",
       "</table>\n",
       "</div>"
      ],
      "text/plain": [
       "        almacen ejercicio  mes   dia  hora tipo_pago vendedor   seccion  \\\n",
       "1523063    T016    2022.0  9.0  27.0  16.0        EF    618.0  INVIERNO   \n",
       "1016841    T007    2022.0  1.0  29.0  16.0        EF    498.0  INTERIOR   \n",
       "\n",
       "               talla      modelo    color producto              grupo  \\\n",
       "1523063  T- UNITALLA  TERCIOPELO  SURTIDO   2572.0  CONJUNTO CHAMARRA   \n",
       "1016841  T- UNITALLA       LIKRA  SURTIDO   3334.0              BOXER   \n",
       "\n",
       "        subgrupo linea marca           lista proveedor  detalle  \n",
       "1523063    LINEA  DAMA  0143  AGUASCALIENTES      0037    P6028  \n",
       "1016841    LINEA  NIÑO  0054  AGUASCALIENTES     Other  BFBOY02  "
      ]
     },
     "execution_count": 21,
     "metadata": {},
     "output_type": "execute_result"
    }
   ],
   "source": [
    "X_cat_train.head(2)"
   ]
  },
  {
   "cell_type": "markdown",
   "id": "f73c4ab0",
   "metadata": {},
   "source": [
    "#### Transform, fit, normalize"
   ]
  },
  {
   "cell_type": "code",
   "execution_count": 22,
   "id": "3706e99a",
   "metadata": {},
   "outputs": [],
   "source": [
    "transformer = MinMaxScaler().fit(X_num_train)\n",
    "x_normalized = transformer.transform(X_num_train)\n",
    "data_normalized = pd.DataFrame(x_normalized, columns = X_num_train.columns)"
   ]
  },
  {
   "cell_type": "code",
   "execution_count": 23,
   "id": "e345582b",
   "metadata": {},
   "outputs": [
    {
     "data": {
      "text/html": [
       "<div>\n",
       "<style scoped>\n",
       "    .dataframe tbody tr th:only-of-type {\n",
       "        vertical-align: middle;\n",
       "    }\n",
       "\n",
       "    .dataframe tbody tr th {\n",
       "        vertical-align: top;\n",
       "    }\n",
       "\n",
       "    .dataframe thead th {\n",
       "        text-align: right;\n",
       "    }\n",
       "</style>\n",
       "<table border=\"1\" class=\"dataframe\">\n",
       "  <thead>\n",
       "    <tr style=\"text-align: right;\">\n",
       "      <th></th>\n",
       "      <th>cantidad</th>\n",
       "      <th>descuento</th>\n",
       "      <th>costo</th>\n",
       "      <th>costo_ind</th>\n",
       "    </tr>\n",
       "  </thead>\n",
       "  <tbody>\n",
       "    <tr>\n",
       "      <th>0</th>\n",
       "      <td>0.000000</td>\n",
       "      <td>0.109468</td>\n",
       "      <td>0.006132</td>\n",
       "      <td>0.458141</td>\n",
       "    </tr>\n",
       "    <tr>\n",
       "      <th>1</th>\n",
       "      <td>0.004175</td>\n",
       "      <td>0.109468</td>\n",
       "      <td>0.001337</td>\n",
       "      <td>0.027173</td>\n",
       "    </tr>\n",
       "    <tr>\n",
       "      <th>2</th>\n",
       "      <td>0.000000</td>\n",
       "      <td>0.109468</td>\n",
       "      <td>0.000396</td>\n",
       "      <td>0.025928</td>\n",
       "    </tr>\n",
       "    <tr>\n",
       "      <th>3</th>\n",
       "      <td>0.000000</td>\n",
       "      <td>0.109468</td>\n",
       "      <td>0.000167</td>\n",
       "      <td>0.009867</td>\n",
       "    </tr>\n",
       "    <tr>\n",
       "      <th>4</th>\n",
       "      <td>0.000000</td>\n",
       "      <td>0.109468</td>\n",
       "      <td>0.000396</td>\n",
       "      <td>0.025928</td>\n",
       "    </tr>\n",
       "  </tbody>\n",
       "</table>\n",
       "</div>"
      ],
      "text/plain": [
       "   cantidad  descuento     costo  costo_ind\n",
       "0  0.000000   0.109468  0.006132   0.458141\n",
       "1  0.004175   0.109468  0.001337   0.027173\n",
       "2  0.000000   0.109468  0.000396   0.025928\n",
       "3  0.000000   0.109468  0.000167   0.009867\n",
       "4  0.000000   0.109468  0.000396   0.025928"
      ]
     },
     "execution_count": 23,
     "metadata": {},
     "output_type": "execute_result"
    }
   ],
   "source": [
    "data_normalized.head(5)"
   ]
  },
  {
   "cell_type": "code",
   "execution_count": 25,
   "id": "a4f2ef59",
   "metadata": {},
   "outputs": [],
   "source": [
    "encoder = OneHotEncoder(drop='first').fit(X_cat_train)\n",
    "encoded = encoder.transform(X_cat_train).toarray()\n",
    "\n",
    "cols = encoder.get_feature_names(input_features=X_cat_train.columns)\n",
    "onehot_encoded = pd.DataFrame(encoded, columns=cols)"
   ]
  },
  {
   "cell_type": "code",
   "execution_count": null,
   "id": "f8f59284",
   "metadata": {},
   "outputs": [],
   "source": [
    "onehot_encoded.head(2)"
   ]
  },
  {
   "cell_type": "code",
   "execution_count": null,
   "id": "4322f61b",
   "metadata": {},
   "outputs": [],
   "source": [
    "X_train_treated = pd.concat([onehot_encoded, data_normalized], axis=1)"
   ]
  },
  {
   "cell_type": "code",
   "execution_count": null,
   "id": "8a7f0a40",
   "metadata": {},
   "outputs": [],
   "source": [
    "%%time\n",
    "X_train_treated.head(2)"
   ]
  },
  {
   "cell_type": "code",
   "execution_count": null,
   "id": "97a8f785",
   "metadata": {},
   "outputs": [],
   "source": [
    "model1 = DecisionTreeRegressor(max_depth=10,\n",
    "                              min_samples_leaf = 2,\n",
    "                              min_samples_split = 10)\n",
    "from sklearn.linear_model import LinearRegression\n",
    "model2 = LinearRegression()\n",
    "from sklearn.neighbors import KNeighborsRegressor\n",
    "model3 = KNeighborsRegressor(n_neighbors=7,n_jobs = -1)\n",
    "from sklearn.preprocessing import StandardScaler\n",
    "# model4 = RandomForestRegressor(max_depth=10,                    # try and run it without randomforest\n",
    "#                               min_samples_leaf = 2,\n",
    "#                               min_samples_split = 10,\n",
    "#                               n_jobs = -1)"
   ]
  },
  {
   "cell_type": "code",
   "execution_count": null,
   "id": "d34867e1",
   "metadata": {},
   "outputs": [],
   "source": [
    "%%time\n",
    "model_pipeline = [model1, model2, model3,model4]\n",
    "model_names = ['Decision Tree Regressor', 'Linear Regression', 'KNN']#, 'Random Forest Regressor']\n",
    "scores = {}\n",
    "for model, model_name in zip(model_pipeline, model_names):\n",
    "    mean_score = np.mean(cross_val_score(model, X_train_treated, y_train, cv=5))\n",
    "    scores[model_name] = mean_score\n",
    "    print('Model '+model_name+ ' done.')\n",
    "print(scores)"
   ]
  },
  {
   "cell_type": "code",
   "execution_count": null,
   "id": "84acf436",
   "metadata": {},
   "outputs": [],
   "source": [
    "# Now for the testing data\n",
    "\n",
    "# NORMALIZING AND ONEHOTENCODING\n",
    "numerical_test = X_test.select_dtypes(np.number)\n",
    "categorical_test = X_test.select_dtypes(object)\n",
    "\n",
    "# MINMAX\n",
    "X_normalized_test = transformer.transform(numerical_test)\n",
    "X_normalized_test = pd.DataFrame(X_normalized_test, columns=numerical_test.columns)\n",
    "\n",
    "# ONEHOT\n",
    "encoded = encoder.transform(categorical_test).toarray()\n",
    "onehot_encoded = pd.DataFrame(encoded,columns=encoder.get_feature_names_out(categorical_test.columns))\n",
    "\n",
    "# concatenating\n",
    "X_ready_test = pd.concat([X_normalized_test,onehot_encoded],axis=1)"
   ]
  },
  {
   "cell_type": "code",
   "execution_count": null,
   "id": "20a7377a",
   "metadata": {},
   "outputs": [],
   "source": [
    "X_ready_test.to_csv('data.csv', index=False)"
   ]
  }
 ],
 "metadata": {
  "kernelspec": {
   "display_name": "Python 3 (ipykernel)",
   "language": "python",
   "name": "python3"
  },
  "language_info": {
   "codemirror_mode": {
    "name": "ipython",
    "version": 3
   },
   "file_extension": ".py",
   "mimetype": "text/x-python",
   "name": "python",
   "nbconvert_exporter": "python",
   "pygments_lexer": "ipython3",
   "version": "3.9.12"
  }
 },
 "nbformat": 4,
 "nbformat_minor": 5
}
